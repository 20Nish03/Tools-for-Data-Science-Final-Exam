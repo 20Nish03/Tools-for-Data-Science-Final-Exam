{
 "cells": [
  {
   "cell_type": "markdown",
   "id": "209d5e70",
   "metadata": {},
   "source": [
    "# Data Science Tools and Ecosystem"
   ]
  },
  {
   "cell_type": "markdown",
   "id": "703090fa",
   "metadata": {},
   "source": [
    "Introduction: In this notebook, the tools for Data Science are listed"
   ]
  },
  {
   "cell_type": "markdown",
   "id": "03c0a701",
   "metadata": {},
   "source": [
    "List of ata Science Languages:\n",
    "    1. Python\n",
    "    2. SQL\n",
    "    3. C++\n",
    "    4. R\n",
    "    5. Java, etc"
   ]
  },
  {
   "cell_type": "markdown",
   "id": "2a973333",
   "metadata": {},
   "source": [
    "List of Data Science Libraries:\n",
    "    1. Tensor Flow\n",
    "    2. NumPy\n",
    "    3. MatplotLib\n",
    "    4. SciKit - Learn\n",
    "    5. Pandas\n",
    "    6. PyTorch, etc"
   ]
  },
  {
   "cell_type": "markdown",
   "id": "453e1817",
   "metadata": {},
   "source": [
    "|Data Science Tools|\n",
    "|------------------|\n",
    "|Tensor Flow|\n",
    "|Apache Hadoop|\n",
    "|SAS|"
   ]
  },
  {
   "cell_type": "markdown",
   "id": "1cec52d9",
   "metadata": {},
   "source": [
    "### Below are a few examples of evaluating arithmetic expressions in Python"
   ]
  },
  {
   "cell_type": "code",
   "execution_count": 2,
   "id": "d6c2545a",
   "metadata": {},
   "outputs": [
    {
     "name": "stdout",
     "output_type": "stream",
     "text": [
      "17\n"
     ]
    }
   ],
   "source": [
    "#This a simple arithmetic expression to mutiply then add integers\n",
    "print((3*4)+5)"
   ]
  },
  {
   "cell_type": "code",
   "execution_count": 3,
   "id": "e2caf2fa",
   "metadata": {},
   "outputs": [
    {
     "name": "stdout",
     "output_type": "stream",
     "text": [
      "3.3333333333333335\n"
     ]
    }
   ],
   "source": [
    "#This will convert 200 minutes to hours by diving by 60\n",
    "print(200/60)"
   ]
  },
  {
   "cell_type": "markdown",
   "id": "cf011b6e",
   "metadata": {},
   "source": [
    "__Objectives_\n",
    "* List popular languages for data science\n",
    "* List popular libraries for data science\n",
    "* List most widely used tools for data science\n",
    "* Providing comments in a cell"
   ]
  },
  {
   "cell_type": "markdown",
   "id": "ee857551",
   "metadata": {},
   "source": [
    "## Author\n",
    "Nishanth Mucherla"
   ]
  }
 ],
 "metadata": {
  "kernelspec": {
   "display_name": "Python 3 (ipykernel)",
   "language": "python",
   "name": "python3"
  },
  "language_info": {
   "codemirror_mode": {
    "name": "ipython",
    "version": 3
   },
   "file_extension": ".py",
   "mimetype": "text/x-python",
   "name": "python",
   "nbconvert_exporter": "python",
   "pygments_lexer": "ipython3",
   "version": "3.11.3"
  }
 },
 "nbformat": 4,
 "nbformat_minor": 5
}
